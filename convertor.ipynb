{
 "metadata": {
  "language_info": {
   "codemirror_mode": {
    "name": "ipython",
    "version": 3
   },
   "file_extension": ".py",
   "mimetype": "text/x-python",
   "name": "python",
   "nbconvert_exporter": "python",
   "pygments_lexer": "ipython3",
   "version": "3.9.2-final"
  },
  "orig_nbformat": 2,
  "kernelspec": {
   "name": "python3",
   "display_name": "Python 3.9.2 64-bit",
   "metadata": {
    "interpreter": {
     "hash": "aee8b7b246df8f9039afb4144a1f6fd8d2ca17a180786b69acc140d282b71a49"
    }
   }
  }
 },
 "nbformat": 4,
 "nbformat_minor": 2,
 "cells": [
  {
   "cell_type": "code",
   "execution_count": null,
   "metadata": {},
   "outputs": [],
   "source": [
    "import xlrd\n",
    "import re\n",
    "from icalendar import Event\n",
    "from datetime import date, datetime, time, timedelta, timezone\n",
    "from uuid import uuid1\n",
    "from dateutil.relativedelta import relativedelta\n",
    "from icalendar import Calendar, Event"
   ]
  },
  {
   "cell_type": "code",
   "execution_count": null,
   "metadata": {},
   "outputs": [],
   "source": [
    "def extract(filename):\n",
    "    wb = xlrd.open_workbook(filename=file)#打开文件\n",
    "    sheet = wb.sheet_by_index(0)\n",
    "    n_class = int(sheet.cell(5,0).value.split(' ')[0].split('：')[1])\n",
    "    return [ [sheet.cell(row_n, i).value for i in [0,5]] for row_n in range(7, 7+n_class) ]"
   ]
  },
  {
   "cell_type": "code",
   "execution_count": null,
   "metadata": {},
   "outputs": [],
   "source": [
    "def CNweekday_to_digit(char):\n",
    "    weekday = '一二三四五六日'\n",
    "    for i in range(1,7):\n",
    "        if char == weekday[i]:\n",
    "            return i\n",
    "    return 0\n",
    "\n",
    "\n",
    "def format_info(info):\n",
    "    '''\n",
    "    info : ['[BQ10029451]计算机网络', '1-16周 一[1-2] 西操场(200)']\n",
    "    '''\n",
    "    index = info[0].find(']')\n",
    "    class_name = info[0][index+1:]\n",
    "\n",
    "    for lecture in info[1].split(','):\n",
    "\n",
    "        week_info, day_info, place = tuple(lecture.split())\n",
    "\n",
    "        #week_info[0]: start week, week_info[1]: end week\n",
    "        week_info = re.findall(r'(\\d+)-(\\d+)周', week_info, re.S | re.M)[0]\n",
    "        week_info = [int(i) for i in week_info]\n",
    "\n",
    "        #day_info[0]: 周几，day_info[1]: start, day_info[2]: end\n",
    "        day_info = list(re.findall(r'(.*?)\\[(\\d+)-(\\d+)\\]', day_info, re.S | re.M)[0])\n",
    "        day_info[0] = CNweekday_to_digit(day_info[0])\n",
    "        day_info = [int(i) for i in day_info]\n",
    "\n",
    "        #place:\n",
    "        try:\n",
    "            place = re.findall(r'(.*?)\\(.*', place, re.S | re.M)[0]\n",
    "        except IndexError:\n",
    "            pass\n",
    "        \n",
    "    return class_name, week_info, day_info, place\n"
   ]
  },
  {
   "cell_type": "code",
   "execution_count": null,
   "metadata": {},
   "outputs": [],
   "source": [
    "def creat_event(info, date_start = date(2021, 2, 21)):\n",
    "    '''\n",
    "    info[0] = '形势与政策Ⅲ'\n",
    "    info[1] = [6, 8]\n",
    "    info[2] = [3, 9, 10]\n",
    "    info[3] = '七103'\n",
    "\n",
    "    ~ 6-8周 三[9-10] 七103(145)\n",
    "    '''\n",
    "    time_start = {\n",
    "    1: time(8,0),   2: time(8,55),  3: time(10,0),  4: time(10,55),\n",
    "    5: time(13,30), 6: time(14,25), 7: time(15,30), 8: time(16,25),\n",
    "    9: time(18,0), 10: time(18,55),11: time(19,50),12: time(20,45)\n",
    "    }\n",
    "\n",
    "    ev_start_date = date_start + relativedelta(weeks= info[1][0] - 1, weekday = info[2][0])\n",
    "    ev_start_datetime = datetime.combine(ev_start_date, time_start[info[2][1]])  #上课时间\n",
    "    ev_end_datetime = datetime.combine(ev_start_date, time_start[info[2][2]]) + relativedelta(minutes=45)   #下课时间\n",
    "    ev_count = info[1][1] - info[1][0] + 1\n",
    "    ev_interval = 1\n",
    "\n",
    "    # generate event\n",
    "    event = Event()\n",
    "    event.add('uid', str(uuid1()) + '@CQUT')\n",
    "    event.add('summary', info[0])\n",
    "    event.add('dtstamp', datetime.now())\n",
    "    event.add('dtstart', ev_start_datetime)\n",
    "    event.add('dtend', ev_end_datetime)\n",
    "    event.add('location', info[3])\n",
    "    event.add('rrule', {'freq': 'weekly', 'interval': ev_interval, 'count': ev_count})\n",
    "    return event\n",
    "\n",
    "def process_CAL(filename):\n",
    "    cal = Calendar()\n",
    "    cal['version'] = '2.0'\n",
    "    cal['prodid'] = '-//CQUT//Syllabus//CN'  # *mandatory elements* where the prodid can be changed, see RFC 5445\n",
    "\n",
    "    for info in extract(filename):\n",
    "        course = creat_event(format_info(info))\n",
    "        cal.add_component(course)\n",
    "\n",
    "    with open('output.ics', 'w+', encoding='utf-8') as file:\n",
    "        file.write(cal.to_ical().decode('utf-8'.replace('\\r\\n', '\\n').strip()))"
   ]
  },
  {
   "cell_type": "code",
   "execution_count": null,
   "metadata": {},
   "outputs": [],
   "source": [
    "process_CAL('test.xls')"
   ]
  }
 ]
}